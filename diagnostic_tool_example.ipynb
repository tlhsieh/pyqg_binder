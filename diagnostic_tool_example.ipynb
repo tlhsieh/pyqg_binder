{
 "cells": [
  {
   "cell_type": "markdown",
   "metadata": {},
   "source": [
    "A quick example showing an error in the diagnostic tool. It is designed to calculate the time mean, but what it actually does is returning the last snapshot divided by the number of steps. \n",
    "\n",
    "This notebook is modified from https://github.com/pyqg/pyqg/blob/master/docs/examples/two-layer.ipynb"
   ]
  },
  {
   "cell_type": "code",
   "execution_count": 1,
   "metadata": {
    "collapsed": true
   },
   "outputs": [],
   "source": [
    "import numpy as np\n",
    "import pyqg"
   ]
  },
  {
   "cell_type": "code",
   "execution_count": null,
   "metadata": {
    "collapsed": true
   },
   "outputs": [],
   "source": [
    "np.random.seed(1234)"
   ]
  },
  {
   "cell_type": "code",
   "execution_count": 2,
   "metadata": {},
   "outputs": [
    {
     "name": "stderr",
     "output_type": "stream",
     "text": [
      "INFO:  Logger initialized\n",
      "INFO: Step: 1000, Time: 7.20e+06, KE: 2.85e-07, CFL: 0.012\n",
      "INFO: Step: 2000, Time: 1.44e+07, KE: 4.54e-07, CFL: 0.012\n",
      "INFO: Step: 3000, Time: 2.16e+07, KE: 8.58e-07, CFL: 0.012\n",
      "INFO: Step: 4000, Time: 2.88e+07, KE: 1.87e-06, CFL: 0.012\n",
      "INFO: Step: 5000, Time: 3.60e+07, KE: 4.51e-06, CFL: 0.012\n",
      "INFO: Step: 6000, Time: 4.32e+07, KE: 1.16e-05, CFL: 0.012\n",
      "INFO: Step: 7000, Time: 5.04e+07, KE: 3.12e-05, CFL: 0.016\n",
      "INFO: Step: 8000, Time: 5.76e+07, KE: 8.57e-05, CFL: 0.027\n"
     ]
    }
   ],
   "source": [
    "year = 24*60*60*360.\n",
    "m = pyqg.QGModel(tmax=2*year, twrite=1000, tavestart=1*year)\n",
    "m.run()"
   ]
  },
  {
   "cell_type": "code",
   "execution_count": 3,
   "metadata": {
    "collapsed": true
   },
   "outputs": [],
   "source": [
    "q1 = m.q[0] # final pv in the upper layer\n",
    "q1mean = m.get_diagnostic('q')[0] # time-mean upper layer pv by the diagnostic tool"
   ]
  },
  {
   "cell_type": "code",
   "execution_count": 4,
   "metadata": {},
   "outputs": [
    {
     "data": {
      "text/plain": [
       "array([[360., 360., 360., ..., 360., 360., 360.],\n",
       "       [360., 360., 360., ..., 360., 360., 360.],\n",
       "       [360., 360., 360., ..., 360., 360., 360.],\n",
       "       ...,\n",
       "       [360., 360., 360., ..., 360., 360., 360.],\n",
       "       [360., 360., 360., ..., 360., 360., 360.],\n",
       "       [360., 360., 360., ..., 360., 360., 360.]])"
      ]
     },
     "execution_count": 4,
     "metadata": {},
     "output_type": "execute_result"
    }
   ],
   "source": [
    "q1/q1mean # this should NOT be a constant array if the diagnostic tool is correct"
   ]
  },
  {
   "cell_type": "code",
   "execution_count": 5,
   "metadata": {},
   "outputs": [
    {
     "data": {
      "text/plain": [
       "array([[ 2.69617865e-06, -3.45128116e-06, -7.59852927e-06, ...,\n",
       "         6.14006967e-06,  8.72485098e-06,  7.47711604e-06],\n",
       "       [ 3.36997288e-06, -2.71148393e-06, -7.20768950e-06, ...,\n",
       "         5.63684206e-06,  8.46727561e-06,  7.72519505e-06],\n",
       "       [ 3.97590999e-06, -1.90590406e-06, -6.67286957e-06, ...,\n",
       "         5.28731275e-06,  8.29488816e-06,  7.90898012e-06],\n",
       "       ...,\n",
       "       [ 1.91309047e-06, -3.96450931e-06, -7.67974534e-06, ...,\n",
       "         7.81419024e-06,  9.66555474e-06,  7.18881387e-06],\n",
       "       [ 1.87285363e-06, -4.09867936e-06, -7.77547423e-06, ...,\n",
       "         7.31637108e-06,  9.34792997e-06,  7.12669645e-06],\n",
       "       [ 2.14913803e-06, -3.93557098e-06, -7.77062886e-06, ...,\n",
       "         6.73013367e-06,  9.02740055e-06,  7.24382878e-06]])"
      ]
     },
     "execution_count": 5,
     "metadata": {},
     "output_type": "execute_result"
    }
   ],
   "source": [
    "q1"
   ]
  },
  {
   "cell_type": "markdown",
   "metadata": {},
   "source": []
  }
 ],
 "metadata": {
  "anaconda-cloud": {},
  "kernelspec": {
   "display_name": "Python 3",
   "language": "python",
   "name": "python3"
  },
  "language_info": {
   "codemirror_mode": {
    "name": "ipython",
    "version": 3
   },
   "file_extension": ".py",
   "mimetype": "text/x-python",
   "name": "python",
   "nbconvert_exporter": "python",
   "pygments_lexer": "ipython3",
   "version": "3.6.1"
  }
 },
 "nbformat": 4,
 "nbformat_minor": 1
}
